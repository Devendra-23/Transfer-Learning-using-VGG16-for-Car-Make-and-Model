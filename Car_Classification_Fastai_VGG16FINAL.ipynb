{
  "cells": [
    {
      "cell_type": "code",
      "execution_count": null,
      "metadata": {
        "id": "nF-krjjnIU9I"
      },
      "outputs": [],
      "source": [
        "from google.colab import drive\n",
        "drive.mount('/content/drive')"
      ],
      "id": "nF-krjjnIU9I"
    },
    {
      "cell_type": "code",
      "execution_count": null,
      "metadata": {
        "id": "sHKaj6hpIdy7"
      },
      "outputs": [],
      "source": [
        "!pip install torch==1.6.0+cu101 torchvision==0.7.0+cu101 -f https://download.pytorch.org/whl/torch_stable.html"
      ],
      "id": "sHKaj6hpIdy7"
    },
    {
      "cell_type": "code",
      "execution_count": null,
      "metadata": {
        "id": "dHeyjVo9IeQV"
      },
      "outputs": [],
      "source": [
        "!pip install console-progressbar"
      ],
      "id": "dHeyjVo9IeQV"
    },
    {
      "cell_type": "code",
      "execution_count": null,
      "metadata": {
        "id": "QA8tp87EIhA-"
      },
      "outputs": [],
      "source": [
        "!pip install fastai==1.0.61"
      ],
      "id": "QA8tp87EIhA-"
    },
    {
      "cell_type": "code",
      "execution_count": null,
      "metadata": {
        "id": "f696e7ee"
      },
      "outputs": [],
      "source": [
        "%reload_ext autoreload\n",
        "%autoreload 2\n",
        "%matplotlib inline\n",
        "from fastai.vision import *\n",
        "from fastai.metrics import error_rate\n",
        "from fastai.vision.data import ImageDataBunch\n",
        "from fastai import *\n",
        "import cv2 as cv\n",
        "import numpy as np\n",
        "import pandas as pd\n",
        "import scipy.io as sio\n",
        "import zipfile\n",
        "\n",
        "#Reference taken for the code \n",
        "# dhamvi01(2019),FastAI-Image-Classification\n",
        "# https://github.com/dhamvi01/FastAI-Image-Classification/blob/master/fastai.ipynb"
      ],
      "id": "f696e7ee"
    },
    {
      "cell_type": "code",
      "execution_count": null,
      "metadata": {
        "id": "-KGPmQHHgoRA"
      },
      "outputs": [],
      "source": [
        "import zipfile\n",
        "from google.colab import drive"
      ],
      "id": "-KGPmQHHgoRA"
    },
    {
      "cell_type": "markdown",
      "metadata": {
        "id": "1535f3ac"
      },
      "source": [
        "# Data prprocessing"
      ],
      "id": "1535f3ac"
    },
    {
      "cell_type": "markdown",
      "metadata": {
        "id": "3b38b8f4"
      },
      "source": [
        "# Prepare data batches"
      ],
      "id": "3b38b8f4"
    },
    {
      "cell_type": "code",
      "execution_count": null,
      "metadata": {
        "id": "419751d6"
      },
      "outputs": [],
      "source": [
        "\n",
        "data = ImageDataBunch.from_folder('/content/drive/MyDrive/cars_classification/cars_classification_dataset','train','valid',ds_tfms=get_transforms(do_flip=False, flip_vert=True, max_rotate=5.0, max_zoom=1.1, max_lighting=0.2, max_warp=0.2, p_affine=0.75, p_lighting=0.75),size=224,bs=32).normalize(imagenet_stats)"
      ],
      "id": "419751d6"
    },
    {
      "cell_type": "code",
      "execution_count": null,
      "metadata": {
        "id": "a719d2bf"
      },
      "outputs": [],
      "source": [
        "# show the batches of image tha created by the model itself...\n",
        "data.show_batch()"
      ],
      "id": "a719d2bf"
    },
    {
      "cell_type": "code",
      "execution_count": null,
      "metadata": {
        "id": "d71762fd"
      },
      "outputs": [],
      "source": [
        "# class names and number of classes\n",
        "print(data.classes)\n",
        "len(data.classes),data.c"
      ],
      "id": "d71762fd"
    },
    {
      "cell_type": "markdown",
      "metadata": {
        "id": "17fc423a"
      },
      "source": [
        "# Training: VGG16\n",
        "\n",
        "# For the training, using VGG16 and batch size of 32."
      ],
      "id": "17fc423a"
    },
    {
      "cell_type": "code",
      "execution_count": null,
      "metadata": {
        "colab": {
          "background_save": true
        },
        "id": "e99d844f"
      },
      "outputs": [],
      "source": [
        "epochs = 40\n",
        "learn = cnn_learner(data, models.vgg16_bn, metrics=accuracy)\n",
        "learn.fit(epochs)\n",
        "\n",
        "\n",
        "data = learn.recorder.plot_losses()\n",
        "data_acc = learn.recorder.plot_metrics()\n",
        "\n",
        "steps_per_epoch = int(len(data[1])/epochs)\n",
        "# print(steps_per_epoch)\n",
        "training_loss = []\n",
        "for st in range(epochs+1):\n",
        "    if st == 0:\n",
        "        training_loss.append(data[1][st])\n",
        "    else:\n",
        "        training_loss.append(data[1][(st*steps_per_epoch)-1])\n",
        "\n",
        "total_epochs = [i for i in range(epochs+1)]\n",
        "epochs_val = total_epochs.copy()\n",
        "del epochs_val[0]\n",
        "val_loss = data[-1]"
      ],
      "id": "e99d844f"
    },
    {
      "cell_type": "markdown",
      "metadata": {
        "id": "ca379b6f"
      },
      "source": [
        "# Ploting loss and accuracy graphs"
      ],
      "id": "ca379b6f"
    },
    {
      "cell_type": "code",
      "execution_count": null,
      "metadata": {
        "id": "ad12a07f"
      },
      "outputs": [],
      "source": [
        "\n",
        "figure, axis = plt.subplots(2, 2)\n",
        "# For Train Loss\n",
        "axis[0, 0].plot(total_epochs, training_loss, label='Train Loss')\n",
        "axis[0, 0].set_title(\"Train Loss\")\n",
        "# For Test Loss\n",
        "axis[0, 1].plot(epochs_val, val_loss, label='Test Loss')\n",
        "axis[0, 1].set_title(\"Test Loss\")\n",
        "# For Test Loss\n",
        "axis[1, 0].plot(epochs_val, data_acc, label='Test Accuracy')\n",
        "axis[1, 0].set_title(\"Test Accuracy\")\n",
        "# For Overall Model Evaluation\n",
        "axis[1, 1].plot(total_epochs, training_loss, label='Train Loss')\n",
        "axis[1, 1].plot(epochs_val, val_loss, label='Test Loss')\n",
        "axis[1, 1].plot(epochs_val, data_acc, label='Test Accuracy')\n",
        "axis[1, 1].set_title(\"All Training Plots\")\n",
        "axis[1, 1].legend()\n",
        "plt.savefig('vgg16_bn_fastai_plot.png')"
      ],
      "id": "ad12a07f"
    },
    {
      "cell_type": "code",
      "execution_count": null,
      "metadata": {
        "id": "d5ef0f0c"
      },
      "outputs": [],
      "source": [
        "# calculate the accuracy\n",
        "preds,y, loss = learn.get_preds(with_loss=True)\n",
        "acc = accuracy(preds, y)\n",
        "print('The accuracy is {0} %.'.format(acc))\n"
      ],
      "id": "d5ef0f0c"
    },
    {
      "cell_type": "markdown",
      "metadata": {
        "id": "92dedfc1"
      },
      "source": [
        "# Save and Export The model"
      ],
      "id": "92dedfc1"
    },
    {
      "cell_type": "code",
      "execution_count": null,
      "metadata": {
        "id": "1c3409cb"
      },
      "outputs": [],
      "source": [
        "\n",
        "learn.save('/content/drive/MyDrive/cars_classification/models_vgg_16/stanford-cars-1')\n",
        "learn.export('/content/drive/MyDrive/cars_classification/models_vgg_16/export.pkl')"
      ],
      "id": "1c3409cb"
    }
  ],
  "metadata": {
    "accelerator": "GPU",
    "colab": {
      "background_execution": "on",
      "collapsed_sections": [],
      "provenance": []
    },
    "gpuClass": "standard",
    "kernelspec": {
      "display_name": "Python 3 (ipykernel)",
      "language": "python",
      "name": "python3"
    },
    "language_info": {
      "codemirror_mode": {
        "name": "ipython",
        "version": 3
      },
      "file_extension": ".py",
      "mimetype": "text/x-python",
      "name": "python",
      "nbconvert_exporter": "python",
      "pygments_lexer": "ipython3",
      "version": "3.8.13"
    }
  },
  "nbformat": 4,
  "nbformat_minor": 5
}